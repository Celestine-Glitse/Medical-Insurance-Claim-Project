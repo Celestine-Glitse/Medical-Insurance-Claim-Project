{
 "cells": [
  {
   "cell_type": "markdown",
   "id": "7bdc2d52-0243-4d4b-b788-596bf69430f7",
   "metadata": {},
   "source": [
    "# This is a classification project on Medical Insurance Claim Dataset."
   ]
  },
  {
   "cell_type": "code",
   "execution_count": 21,
   "id": "89e743a1-5254-48a4-a791-ee58c575646a",
   "metadata": {},
   "outputs": [
    {
     "data": {
      "text/html": [
       "<div>\n",
       "<style scoped>\n",
       "    .dataframe tbody tr th:only-of-type {\n",
       "        vertical-align: middle;\n",
       "    }\n",
       "\n",
       "    .dataframe tbody tr th {\n",
       "        vertical-align: top;\n",
       "    }\n",
       "\n",
       "    .dataframe thead th {\n",
       "        text-align: right;\n",
       "    }\n",
       "</style>\n",
       "<table border=\"1\" class=\"dataframe\">\n",
       "  <thead>\n",
       "    <tr style=\"text-align: right;\">\n",
       "      <th></th>\n",
       "      <th>age</th>\n",
       "      <th>sex</th>\n",
       "      <th>bmi</th>\n",
       "      <th>steps</th>\n",
       "      <th>children</th>\n",
       "      <th>smoker</th>\n",
       "      <th>region</th>\n",
       "      <th>insurance_claim</th>\n",
       "      <th>claim_amount</th>\n",
       "    </tr>\n",
       "  </thead>\n",
       "  <tbody>\n",
       "    <tr>\n",
       "      <th>0</th>\n",
       "      <td>19</td>\n",
       "      <td>female</td>\n",
       "      <td>27.900</td>\n",
       "      <td>3009</td>\n",
       "      <td>0</td>\n",
       "      <td>yes</td>\n",
       "      <td>southwest</td>\n",
       "      <td>yes</td>\n",
       "      <td>16884.9240</td>\n",
       "    </tr>\n",
       "    <tr>\n",
       "      <th>1</th>\n",
       "      <td>18</td>\n",
       "      <td>male</td>\n",
       "      <td>33.770</td>\n",
       "      <td>3008</td>\n",
       "      <td>1</td>\n",
       "      <td>no</td>\n",
       "      <td>southeast</td>\n",
       "      <td>yes</td>\n",
       "      <td>1725.5523</td>\n",
       "    </tr>\n",
       "    <tr>\n",
       "      <th>2</th>\n",
       "      <td>28</td>\n",
       "      <td>male</td>\n",
       "      <td>33.000</td>\n",
       "      <td>3009</td>\n",
       "      <td>3</td>\n",
       "      <td>no</td>\n",
       "      <td>southeast</td>\n",
       "      <td>no</td>\n",
       "      <td>0.0000</td>\n",
       "    </tr>\n",
       "    <tr>\n",
       "      <th>3</th>\n",
       "      <td>33</td>\n",
       "      <td>male</td>\n",
       "      <td>22.705</td>\n",
       "      <td>10009</td>\n",
       "      <td>0</td>\n",
       "      <td>no</td>\n",
       "      <td>northwest</td>\n",
       "      <td>no</td>\n",
       "      <td>0.0000</td>\n",
       "    </tr>\n",
       "    <tr>\n",
       "      <th>4</th>\n",
       "      <td>32</td>\n",
       "      <td>male</td>\n",
       "      <td>28.880</td>\n",
       "      <td>8010</td>\n",
       "      <td>0</td>\n",
       "      <td>no</td>\n",
       "      <td>northwest</td>\n",
       "      <td>yes</td>\n",
       "      <td>3866.8552</td>\n",
       "    </tr>\n",
       "  </tbody>\n",
       "</table>\n",
       "</div>"
      ],
      "text/plain": [
       "   age     sex     bmi  steps  children smoker     region insurance_claim  \\\n",
       "0   19  female  27.900   3009         0    yes  southwest             yes   \n",
       "1   18    male  33.770   3008         1     no  southeast             yes   \n",
       "2   28    male  33.000   3009         3     no  southeast              no   \n",
       "3   33    male  22.705  10009         0     no  northwest              no   \n",
       "4   32    male  28.880   8010         0     no  northwest             yes   \n",
       "\n",
       "   claim_amount  \n",
       "0    16884.9240  \n",
       "1     1725.5523  \n",
       "2        0.0000  \n",
       "3        0.0000  \n",
       "4     3866.8552  "
      ]
     },
     "execution_count": 21,
     "metadata": {},
     "output_type": "execute_result"
    }
   ],
   "source": [
    "# Loading the claim_data dataframe\n",
    "\n",
    "import pandas as pd, numpy as np\n",
    "df = pd.read_csv(r\"C:\\Users\\hemed\\Downloads\\ALX - DATA SCIENCE\\ALX Explore AI\\Exam 1\\Exam_Part_I_data 5\\claims_data.csv\")\n",
    "df.head()"
   ]
  },
  {
   "cell_type": "markdown",
   "id": "8dd78d46-9878-4bf2-aa2e-c69524bb8381",
   "metadata": {},
   "source": [
    "#### This dataset contains information about patients with or without insurance claim. \n",
    "#### We will train the data to predict whether or not a patient will be eligible for insurance_claim or not. This will be done without taking claim_amount ino consideration since the claim status will be a determinant of whether the person will recieve an amount or not, not the other way round."
   ]
  },
  {
   "cell_type": "markdown",
   "id": "47e1feeb-2e4e-4ddf-9931-c09e2d835363",
   "metadata": {},
   "source": [
    "## 1. Data Cleaning"
   ]
  },
  {
   "cell_type": "code",
   "execution_count": 22,
   "id": "04be6f8b-a426-4baf-9b30-2dfcaf8eaa16",
   "metadata": {},
   "outputs": [
    {
     "name": "stdout",
     "output_type": "stream",
     "text": [
      "<class 'pandas.core.frame.DataFrame'>\n",
      "RangeIndex: 1338 entries, 0 to 1337\n",
      "Data columns (total 9 columns):\n",
      " #   Column           Non-Null Count  Dtype  \n",
      "---  ------           --------------  -----  \n",
      " 0   age              1338 non-null   int64  \n",
      " 1   sex              1338 non-null   object \n",
      " 2   bmi              1338 non-null   float64\n",
      " 3   steps            1338 non-null   int64  \n",
      " 4   children         1338 non-null   int64  \n",
      " 5   smoker           1338 non-null   object \n",
      " 6   region           1338 non-null   object \n",
      " 7   insurance_claim  1338 non-null   object \n",
      " 8   claim_amount     1338 non-null   float64\n",
      "dtypes: float64(2), int64(3), object(4)\n",
      "memory usage: 94.2+ KB\n"
     ]
    }
   ],
   "source": [
    "# Checking dataset fro possible missng values or inconsistencies for preprocessing\n",
    "\n",
    "df.info()"
   ]
  },
  {
   "cell_type": "markdown",
   "id": "860bec92-35ef-46eb-a243-59ab4adfbf8f",
   "metadata": {},
   "source": [
    "#### From the above output, we can see that there are no missing value since all columns have the required number of entries with correct data types."
   ]
  },
  {
   "cell_type": "markdown",
   "id": "9e955222-94c8-4b77-bafe-aef2b969f5b1",
   "metadata": {},
   "source": [
    "## 2. Splitting and training data"
   ]
  },
  {
   "cell_type": "code",
   "execution_count": 23,
   "id": "f76cc75d-65f4-4d54-9be9-70b2d4a47ec2",
   "metadata": {},
   "outputs": [],
   "source": [
    "# splitting data into features and target\n",
    "\n",
    "x = df.drop(columns = df[['insurance_claim', 'claim_amount']], axis = 1)\n",
    "y = df['insurance_claim']"
   ]
  },
  {
   "cell_type": "code",
   "execution_count": 24,
   "id": "915e5d28-5890-4040-aae5-9fd3bb20b3bd",
   "metadata": {},
   "outputs": [],
   "source": [
    "# Converting the categorical variables thus variables with datatype object into numerical \n",
    "\n",
    "X = pd.get_dummies(x, drop_first = True).astype(int)\n",
    "y = y.apply(lambda x: 1 if x == 'yes' else 0)"
   ]
  },
  {
   "cell_type": "code",
   "execution_count": 25,
   "id": "b24e968b-5b82-4a6c-b526-b4c0ecd7259a",
   "metadata": {},
   "outputs": [],
   "source": [
    "# Splitting into train and test set with 30% for test size and random state of 42\n",
    "\n",
    "from sklearn.model_selection import train_test_split\n",
    "\n",
    "X_train, X_test, y_train, y_test = train_test_split(X, y, test_size = 0.3, random_state = 42)"
   ]
  },
  {
   "cell_type": "code",
   "execution_count": 26,
   "id": "b45e3cde-3029-4187-adef-3d3aae52715f",
   "metadata": {},
   "outputs": [
    {
     "name": "stdout",
     "output_type": "stream",
     "text": [
      "The accuracy of this model is 0.8606965174129353\n",
      "              precision    recall  f1-score   support\n",
      "\n",
      "           0       0.86      0.78      0.82       161\n",
      "           1       0.86      0.91      0.89       241\n",
      "\n",
      "    accuracy                           0.86       402\n",
      "   macro avg       0.86      0.85      0.85       402\n",
      "weighted avg       0.86      0.86      0.86       402\n",
      "\n"
     ]
    },
    {
     "name": "stderr",
     "output_type": "stream",
     "text": [
      "C:\\Users\\hemed\\.conda\\envs\\Python\\Lib\\site-packages\\sklearn\\linear_model\\_logistic.py:469: ConvergenceWarning: lbfgs failed to converge (status=1):\n",
      "STOP: TOTAL NO. of ITERATIONS REACHED LIMIT.\n",
      "\n",
      "Increase the number of iterations (max_iter) or scale the data as shown in:\n",
      "    https://scikit-learn.org/stable/modules/preprocessing.html\n",
      "Please also refer to the documentation for alternative solver options:\n",
      "    https://scikit-learn.org/stable/modules/linear_model.html#logistic-regression\n",
      "  n_iter_i = _check_optimize_result(\n"
     ]
    }
   ],
   "source": [
    "# training, predicting and evaluation of a logistic regression using Accuracy score\n",
    "\n",
    "from sklearn.linear_model import LogisticRegression\n",
    "from sklearn.metrics import accuracy_score, classification_report\n",
    "\n",
    "# Instantiate the model and train the training data\n",
    "lr = LogisticRegression()\n",
    "model = lr.fit(X_train, y_train)\n",
    "\n",
    "# Predict insurance claim for the X_test\n",
    "y_pred = lr.predict(X_test)\n",
    "\n",
    "# Evaluating the model using\n",
    "accuracy = accuracy_score(y_test, y_pred)\n",
    "\n",
    "print(f'The accuracy of this model is {accuracy}')\n",
    "print (classification_report(y_test, y_pred))"
   ]
  },
  {
   "cell_type": "markdown",
   "id": "508a9b80-49ad-401b-92ec-5bdc8b9e01ed",
   "metadata": {},
   "source": [
    "#### The accuracy score of 86% implies that 86% of the predicted insurance claim were correctly predicted"
   ]
  },
  {
   "cell_type": "markdown",
   "id": "985ef932-5647-4f24-a2a1-14c22aa92d8e",
   "metadata": {},
   "source": [
    "## 3. Feature selection"
   ]
  },
  {
   "cell_type": "markdown",
   "id": "89c25330-b5fb-4927-8320-ac4eac8a5021",
   "metadata": {},
   "source": [
    "#### using the statsmodels library to do so, with default parameters, we will select the significant features"
   ]
  },
  {
   "cell_type": "code",
   "execution_count": 27,
   "id": "784b569b-5a6d-4ec2-a5ff-87303680312a",
   "metadata": {},
   "outputs": [
    {
     "name": "stdout",
     "output_type": "stream",
     "text": [
      "Optimization terminated successfully.\n",
      "         Current function value: 0.367735\n",
      "         Iterations 8\n",
      "                           Logit Regression Results                           \n",
      "==============================================================================\n",
      "Dep. Variable:        insurance_claim   No. Observations:                  936\n",
      "Model:                          Logit   Df Residuals:                      926\n",
      "Method:                           MLE   Df Model:                            9\n",
      "Date:                Fri, 09 Aug 2024   Pseudo R-squ.:                  0.4597\n",
      "Time:                        14:53:07   Log-Likelihood:                -344.20\n",
      "converged:                       True   LL-Null:                       -637.04\n",
      "Covariance Type:            nonrobust   LLR p-value:                2.489e-120\n",
      "====================================================================================\n",
      "                       coef    std err          z      P>|z|      [0.025      0.975]\n",
      "------------------------------------------------------------------------------------\n",
      "const               -9.3946      1.344     -6.991      0.000     -12.029      -6.761\n",
      "age                  0.0355      0.008      4.738      0.000       0.021       0.050\n",
      "bmi                  0.3091      0.034      9.088      0.000       0.242       0.376\n",
      "steps             9.604e-05   6.12e-05      1.568      0.117    -2.4e-05       0.000\n",
      "children            -1.4630      0.118    -12.355      0.000      -1.695      -1.231\n",
      "sex_male             0.0582      0.191      0.304      0.761      -0.317       0.433\n",
      "smoker_yes           4.5725      0.446     10.260      0.000       3.699       5.446\n",
      "region_northwest    -0.5233      0.266     -1.965      0.049      -1.045      -0.001\n",
      "region_southeast    -0.4766      0.279     -1.710      0.087      -1.023       0.070\n",
      "region_southwest    -0.5245      0.273     -1.922      0.055      -1.059       0.010\n",
      "====================================================================================\n"
     ]
    }
   ],
   "source": [
    "import statsmodels.api as sm\n",
    "\n",
    "# Add a constant to the training data\n",
    "X_train_const = sm.add_constant(X_train)\n",
    "\n",
    "# Fit the logistic regression model\n",
    "model = sm.Logit(y_train, X_train_const)\n",
    "result = model.fit()\n",
    "\n",
    "# Output the summary of the model\n",
    "print(result.summary())"
   ]
  },
  {
   "cell_type": "markdown",
   "id": "f6011ea8-fb75-4d98-9717-2c79a553e02f",
   "metadata": {},
   "source": [
    "#### The stats model shows that the following features (age, bmi, children, smoker, region) significantly affect the likelihood of an insurance claim. Number of steps and sex are not significant. There appear to be some regional effects, but these are not strongly significant."
   ]
  },
  {
   "cell_type": "markdown",
   "id": "0ee43187-ed85-4da5-8194-4de5093ed5c1",
   "metadata": {},
   "source": [
    "#### Training a new logistic model with the most significant features"
   ]
  },
  {
   "cell_type": "code",
   "execution_count": 28,
   "id": "34fce5f6-0e53-4fd6-ba8d-b5c7abe36959",
   "metadata": {},
   "outputs": [
    {
     "data": {
      "text/plain": [
       "0.8805970149253731"
      ]
     },
     "execution_count": 28,
     "metadata": {},
     "output_type": "execute_result"
    }
   ],
   "source": [
    "x_new = df[['age', 'bmi', 'children', 'smoker', 'region']]\n",
    "\n",
    "X_new = pd.get_dummies(x_new, drop_first = True).astype(int)\n",
    "X_new_train, X_new_test, y_train, y_test = train_test_split(X_new, y, test_size = 0.3, random_state = 42)\n",
    "\n",
    "lm = LogisticRegression()\n",
    "lm.fit(X_new_train, y_train)\n",
    "\n",
    "y_new_pred = lm.predict(X_new_test)\n",
    "\n",
    "acc = accuracy_score(y_new_pred, y_test)\n",
    "acc"
   ]
  },
  {
   "cell_type": "markdown",
   "id": "9cc46c02-6694-479f-84e3-405cd142c0ba",
   "metadata": {},
   "source": [
    "#### The accuracy score of 88% implies that 88% of the predicted insurance claim were correctly predicted which is higher than the accuracy of the full model "
   ]
  },
  {
   "cell_type": "markdown",
   "id": "47d44135-8a03-4d1a-ae86-30ef5dea14ac",
   "metadata": {},
   "source": [
    "### Fit Support Vector Machine models to the training data, using respectively the radial, sigmoid and linear kernels with default parameters to find which kernel will be the best predictora?"
   ]
  },
  {
   "cell_type": "code",
   "execution_count": 29,
   "id": "d4cfbcd7-e5d5-4a7c-b416-da592e1031d9",
   "metadata": {},
   "outputs": [
    {
     "name": "stdout",
     "output_type": "stream",
     "text": [
      "Accuracy for radial kernel model = 0.7437810945273632\n",
      "Accuracy for sigmoid kernel model = 0.4253731343283582\n",
      "Accuracy for linear kernel model = 0.8905472636815921\n"
     ]
    }
   ],
   "source": [
    "from sklearn.svm import SVC\n",
    "from sklearn.metrics import accuracy_score\n",
    "\n",
    "# Step 1: Initialize the SVM models with different kernels\n",
    "svm_radial = SVC(kernel='rbf', random_state=101)\n",
    "svm_sigmoid = SVC(kernel='sigmoid', random_state=101)\n",
    "svm_linear = SVC(kernel='linear', random_state=101)\n",
    "\n",
    "# Step 2: Fit the models on the training data\n",
    "svm_radial.fit(X_new_train, y_train)\n",
    "svm_sigmoid.fit(X_new_train, y_train)\n",
    "svm_linear.fit(X_new_train, y_train)\n",
    "\n",
    "# Step 3: Make predictions on the test data\n",
    "y_pred_radial = svm_radial.predict(X_new_test)\n",
    "y_pred_sigmoid = svm_sigmoid.predict(X_new_test)\n",
    "y_pred_linear = svm_linear.predict(X_new_test)\n",
    "\n",
    "# Step 4: Calculate the accuracy for each model\n",
    "accuracy_radial = accuracy_score(y_test, y_pred_radial)\n",
    "accuracy_sigmoid = accuracy_score(y_test, y_pred_sigmoid)\n",
    "accuracy_linear = accuracy_score(y_test, y_pred_linear)\n",
    "\n",
    "# Output the accuracies\n",
    "print(f'Accuracy for radial kernel model = {accuracy_radial}')\n",
    "print(f'Accuracy for sigmoid kernel model = {accuracy_sigmoid}')\n",
    "print(f'Accuracy for linear kernel model = {accuracy_linear}')"
   ]
  },
  {
   "cell_type": "markdown",
   "id": "a219dec8-45b6-4ab4-a4a8-e954e0566ff8",
   "metadata": {},
   "source": [
    "#### The Support Vector Machine model with linear kernel performed better than all the other making it the best predictor"
   ]
  },
  {
   "cell_type": "code",
   "execution_count": null,
   "id": "21231846-5bce-4959-a8ff-41ba55a4b06e",
   "metadata": {},
   "outputs": [],
   "source": []
  }
 ],
 "metadata": {
  "kernelspec": {
   "display_name": "Python 3 (ipykernel)",
   "language": "python",
   "name": "python3"
  },
  "language_info": {
   "codemirror_mode": {
    "name": "ipython",
    "version": 3
   },
   "file_extension": ".py",
   "mimetype": "text/x-python",
   "name": "python",
   "nbconvert_exporter": "python",
   "pygments_lexer": "ipython3",
   "version": "3.11.7"
  }
 },
 "nbformat": 4,
 "nbformat_minor": 5
}
